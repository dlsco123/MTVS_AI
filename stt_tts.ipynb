{
 "cells": [
  {
   "cell_type": "code",
   "execution_count": null,
   "metadata": {},
   "outputs": [],
   "source": [
    "# !pip install google-cloud-speech google-cloud-texttospeech Flask"
   ]
  },
  {
   "cell_type": "markdown",
   "metadata": {},
   "source": [
    "## STT & TTS구현"
   ]
  },
  {
   "cell_type": "code",
   "execution_count": null,
   "metadata": {},
   "outputs": [],
   "source": [
    "import os\n",
    "from flask import Flask, request, send_file\n",
    "from google.cloud import speech, texttospeech\n",
    "\n",
    "app = Flask(__name__)\n",
    "\n",
    "# 환경 변수로 구글 크리덴셜 설정\n",
    "os.environ[\"GOOGLE_APPLICATION_CREDENTIALS\"] = \"YOUR_GOOGLE_CREDENTIALS_JSON_PATH\"\n",
    "\n",
    "@app.route('/stt-tts', methods=['POST'])\n",
    "def stt_tts():\n",
    "    # 오디오 데이터 가져오기\n",
    "    audio_data = request.data\n",
    "\n",
    "    # STT 설정 및 실행\n",
    "    client = speech.SpeechClient()\n",
    "    audio = speech.RecognitionAudio(content=audio_data)\n",
    "    config = speech.RecognitionConfig(\n",
    "        encoding=speech.RecognitionConfig.AudioEncoding.LINEAR16,\n",
    "        sample_rate_hertz=16000,\n",
    "        language_code=\"ko-KR\",\n",
    "    )\n",
    "\n",
    "    response = client.recognize(config=config, audio=audio)\n",
    "\n",
    "    # \"메타버스\"라는 말이 있으면 TTS로 \"반갑습니다\" 음성 생성\n",
    "    for result in response.results:\n",
    "        if \"메타버스\" in result.alternatives[0].transcript:\n",
    "            tts_client = texttospeech.TextToSpeechClient()\n",
    "            synthesis_input = texttospeech.SynthesisInput(text=\"반갑습니다\")\n",
    "            voice = texttospeech.VoiceSelectionParams(\n",
    "                language_code=\"ko-KR\", ssml_gender=texttospeech.SsmlVoiceGender.NEUTRAL\n",
    "            )\n",
    "            audio_config = texttospeech.AudioConfig(\n",
    "                audio_encoding=texttospeech.AudioEncoding.MP3\n",
    "            )\n",
    "\n",
    "            response = tts_client.synthesize_speech(\n",
    "                input=synthesis_input, voice=voice, audio_config=audio_config\n",
    "            )\n",
    "\n",
    "            return send_file(\n",
    "                io.BytesIO(response.audio_content),\n",
    "                attachment_filename='response.mp3',\n",
    "                mimetype='audio/mp3'\n",
    "            )\n",
    "\n",
    "    return \"메타버스라는 말을 찾을 수 없습니다.\", 400\n",
    "\n",
    "if __name__ == '__main__':\n",
    "    app.run(debug=True)\n"
   ]
  }
 ],
 "metadata": {
  "language_info": {
   "name": "python"
  },
  "orig_nbformat": 4
 },
 "nbformat": 4,
 "nbformat_minor": 2
}
